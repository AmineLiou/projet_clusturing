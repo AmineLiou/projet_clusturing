{
 "cells": [
  {
   "cell_type": "code",
   "execution_count": 5,
   "id": "e087ee88-14d6-4324-9316-cf83b39b2516",
   "metadata": {},
   "outputs": [],
   "source": [
    "import pandas as pd\n",
    "import numpy as np\n",
    "from sklearn.cluster import KMeans\n",
    "import numpy as np\n",
    "import random\n",
    "data= pd.read_csv('data_U.csv', sep = ';', header = 0)"
   ]
  },
  {
   "cell_type": "code",
   "execution_count": null,
   "id": "71241ea6-69b1-4dc0-bcf3-968cc183cc7a",
   "metadata": {},
   "outputs": [],
   "source": []
  },
  {
   "cell_type": "code",
   "execution_count": 6,
   "id": "1692a8f2-e81d-4b6a-a856-c8c7785f6a6d",
   "metadata": {},
   "outputs": [],
   "source": [
    "columns = ['col1','col2','col3','col4','elements']\n",
    "data.columns =columns\n",
    "data = data.set_index('elements')"
   ]
  },
  {
   "cell_type": "code",
   "execution_count": 4,
   "id": "0ed69d27-00af-48fa-a72d-7677eaa43247",
   "metadata": {},
   "outputs": [
    {
     "data": {
      "text/html": [
       "<div>\n",
       "<style scoped>\n",
       "    .dataframe tbody tr th:only-of-type {\n",
       "        vertical-align: middle;\n",
       "    }\n",
       "\n",
       "    .dataframe tbody tr th {\n",
       "        vertical-align: top;\n",
       "    }\n",
       "\n",
       "    .dataframe thead th {\n",
       "        text-align: right;\n",
       "    }\n",
       "</style>\n",
       "<table border=\"1\" class=\"dataframe\">\n",
       "  <thead>\n",
       "    <tr style=\"text-align: right;\">\n",
       "      <th></th>\n",
       "      <th>col1</th>\n",
       "      <th>col2</th>\n",
       "      <th>col3</th>\n",
       "      <th>col4</th>\n",
       "    </tr>\n",
       "    <tr>\n",
       "      <th>elements</th>\n",
       "      <th></th>\n",
       "      <th></th>\n",
       "      <th></th>\n",
       "      <th></th>\n",
       "    </tr>\n",
       "  </thead>\n",
       "  <tbody>\n",
       "    <tr>\n",
       "      <th>o2</th>\n",
       "      <td>6,1</td>\n",
       "      <td>2,8</td>\n",
       "      <td>4,2</td>\n",
       "      <td>1,5</td>\n",
       "    </tr>\n",
       "    <tr>\n",
       "      <th>o3</th>\n",
       "      <td>6,4</td>\n",
       "      <td>2,8</td>\n",
       "      <td>4,6</td>\n",
       "      <td>1,3</td>\n",
       "    </tr>\n",
       "    <tr>\n",
       "      <th>o4</th>\n",
       "      <td>6,4</td>\n",
       "      <td>2,5</td>\n",
       "      <td>4,3</td>\n",
       "      <td>1,4</td>\n",
       "    </tr>\n",
       "    <tr>\n",
       "      <th>o5</th>\n",
       "      <td>6,3</td>\n",
       "      <td>2,3</td>\n",
       "      <td>4,4</td>\n",
       "      <td>1,5</td>\n",
       "    </tr>\n",
       "    <tr>\n",
       "      <th>o6</th>\n",
       "      <td>6,3</td>\n",
       "      <td>2,8</td>\n",
       "      <td>4,9</td>\n",
       "      <td>1,6</td>\n",
       "    </tr>\n",
       "  </tbody>\n",
       "</table>\n",
       "</div>"
      ],
      "text/plain": [
       "         col1 col2 col3 col4\n",
       "elements                    \n",
       "o2        6,1  2,8  4,2  1,5\n",
       "o3        6,4  2,8  4,6  1,3\n",
       "o4        6,4  2,5  4,3  1,4\n",
       "o5        6,3  2,3  4,4  1,5\n",
       "o6        6,3  2,8  4,9  1,6"
      ]
     },
     "execution_count": 4,
     "metadata": {},
     "output_type": "execute_result"
    }
   ],
   "source": [
    "data.head()\n"
   ]
  },
  {
   "cell_type": "code",
   "execution_count": 5,
   "id": "334e3f2b-ce03-4a18-8517-e0faceaa683e",
   "metadata": {},
   "outputs": [],
   "source": [
    "def GTRS(k,alpha,alpha_dec,beta,beta_inc,U):\n",
    "    alpha=1\n",
    "    beta=0\n",
    "    C,M=devide(U)\n",
    "    C_clusters=Kmeans(C)\n",
    "    Missing_ratio=sum(pd.isnull(M))/productsize(M)\n",
    "    Cn,Mn = pick_random(C_cluster, Missing_ratio)\n",
    "    return Cn,Mn"
   ]
  },
  {
   "cell_type": "code",
   "execution_count": 7,
   "id": "e9f1ce05-46b6-4433-8143-25aa643d52e7",
   "metadata": {},
   "outputs": [],
   "source": [
    "def devide(U):\n",
    "    Mnull=pd.isnull(U) #si une ligne contient une valeur null \n",
    "    sumoverows=Mnull.sum(axis=1)\n",
    "    \n",
    "    C=U[sumoverows==0]\n",
    "    M=U[sumoverows>0]\n",
    "    \n",
    "    return M,C\n",
    "    "
   ]
  },
  {
   "cell_type": "code",
   "execution_count": 9,
   "id": "618dd8a0-6b7e-4887-9821-40cca85e620d",
   "metadata": {},
   "outputs": [
    {
     "data": {
      "text/html": [
       "<div>\n",
       "<style scoped>\n",
       "    .dataframe tbody tr th:only-of-type {\n",
       "        vertical-align: middle;\n",
       "    }\n",
       "\n",
       "    .dataframe tbody tr th {\n",
       "        vertical-align: top;\n",
       "    }\n",
       "\n",
       "    .dataframe thead th {\n",
       "        text-align: right;\n",
       "    }\n",
       "</style>\n",
       "<table border=\"1\" class=\"dataframe\">\n",
       "  <thead>\n",
       "    <tr style=\"text-align: right;\">\n",
       "      <th></th>\n",
       "      <th>col1</th>\n",
       "      <th>col2</th>\n",
       "      <th>col3</th>\n",
       "      <th>col4</th>\n",
       "    </tr>\n",
       "    <tr>\n",
       "      <th>elements</th>\n",
       "      <th></th>\n",
       "      <th></th>\n",
       "      <th></th>\n",
       "      <th></th>\n",
       "    </tr>\n",
       "  </thead>\n",
       "  <tbody>\n",
       "    <tr>\n",
       "      <th>o31</th>\n",
       "      <td>5,5</td>\n",
       "      <td>NaN</td>\n",
       "      <td>3,1</td>\n",
       "      <td>2,5</td>\n",
       "    </tr>\n",
       "    <tr>\n",
       "      <th>o32</th>\n",
       "      <td>4,2</td>\n",
       "      <td>3,1</td>\n",
       "      <td>NaN</td>\n",
       "      <td>NaN</td>\n",
       "    </tr>\n",
       "    <tr>\n",
       "      <th>o33</th>\n",
       "      <td>NaN</td>\n",
       "      <td>3</td>\n",
       "      <td>2,1</td>\n",
       "      <td>NaN</td>\n",
       "    </tr>\n",
       "    <tr>\n",
       "      <th>o34</th>\n",
       "      <td>6</td>\n",
       "      <td>2,2</td>\n",
       "      <td>3</td>\n",
       "      <td>NaN</td>\n",
       "    </tr>\n",
       "    <tr>\n",
       "      <th>o35</th>\n",
       "      <td>6,3</td>\n",
       "      <td>NaN</td>\n",
       "      <td>5</td>\n",
       "      <td>1</td>\n",
       "    </tr>\n",
       "    <tr>\n",
       "      <th>o36</th>\n",
       "      <td>4,1</td>\n",
       "      <td>4</td>\n",
       "      <td>NaN</td>\n",
       "      <td>6</td>\n",
       "    </tr>\n",
       "    <tr>\n",
       "      <th>o37</th>\n",
       "      <td>NaN</td>\n",
       "      <td>NaN</td>\n",
       "      <td>4,8</td>\n",
       "      <td>5</td>\n",
       "    </tr>\n",
       "    <tr>\n",
       "      <th>o38</th>\n",
       "      <td>5</td>\n",
       "      <td>1,6</td>\n",
       "      <td>NaN</td>\n",
       "      <td>NaN</td>\n",
       "    </tr>\n",
       "    <tr>\n",
       "      <th>o39</th>\n",
       "      <td>2</td>\n",
       "      <td>1,2</td>\n",
       "      <td>6,9</td>\n",
       "      <td>NaN</td>\n",
       "    </tr>\n",
       "    <tr>\n",
       "      <th>o40</th>\n",
       "      <td>1,8</td>\n",
       "      <td>NaN</td>\n",
       "      <td>5</td>\n",
       "      <td>3,2</td>\n",
       "    </tr>\n",
       "  </tbody>\n",
       "</table>\n",
       "</div>"
      ],
      "text/plain": [
       "         col1 col2 col3 col4\n",
       "elements                    \n",
       "o31       5,5  NaN  3,1  2,5\n",
       "o32       4,2  3,1  NaN  NaN\n",
       "o33       NaN    3  2,1  NaN\n",
       "o34         6  2,2    3  NaN\n",
       "o35       6,3  NaN    5    1\n",
       "o36       4,1    4  NaN    6\n",
       "o37       NaN  NaN  4,8    5\n",
       "o38         5  1,6  NaN  NaN\n",
       "o39         2  1,2  6,9  NaN\n",
       "o40       1,8  NaN    5  3,2"
      ]
     },
     "execution_count": 9,
     "metadata": {},
     "output_type": "execute_result"
    }
   ],
   "source": [
    "M,C=devide(data)\n",
    "M\n",
    "\n"
   ]
  },
  {
   "cell_type": "code",
   "execution_count": 3,
   "id": "a4addc83-0acb-4288-acd9-e15a10df48e3",
   "metadata": {},
   "outputs": [],
   "source": [
    "from sklearn.cluster import KMeans\n",
    "\n",
    "\n",
    "def Kmeans(C,k=2):\n",
    "    kmeans = KMeans(n_clusters=k, random_state=0).fit(C)\n",
    "    kmeans.predict(C)\n",
    "    return kmeans\n",
    "\n",
    "\n",
    "\n",
    "    \n",
    "\n"
   ]
  },
  {
   "cell_type": "code",
   "execution_count": 10,
   "id": "3ebf97e0-ea3b-4bb7-a7d1-0f94036fddf8",
   "metadata": {},
   "outputs": [],
   "source": [
    "def Missing_ratio(M):\n",
    "    m=sum(pd.isnull(M).sum(axis=1))\n",
    "    r=m/np.size(M)\n",
    "    return r\n",
    "    "
   ]
  },
  {
   "cell_type": "code",
   "execution_count": 10,
   "id": "83894469-848d-4637-a59a-98aeb8149dd0",
   "metadata": {},
   "outputs": [
    {
     "name": "stdout",
     "output_type": "stream",
     "text": [
      "0.35\n"
     ]
    }
   ],
   "source": [
    "print(Missing_ratio(M))\n"
   ]
  },
  {
   "cell_type": "code",
   "execution_count": 126,
   "id": "fc275221-2f48-4763-9611-a4f375d9f4c2",
   "metadata": {},
   "outputs": [
    {
     "data": {
      "text/plain": [
       "(39, 5)"
      ]
     },
     "execution_count": 126,
     "metadata": {},
     "output_type": "execute_result"
    }
   ],
   "source": [
    "data.shape"
   ]
  },
  {
   "cell_type": "code",
   "execution_count": 11,
   "id": "3632affa-6451-48c4-96c1-05d910e66261",
   "metadata": {},
   "outputs": [],
   "source": [
    "import numpy as np\n",
    "import random\n",
    "def pick_random(U,Missing_ratio):\n",
    "    s=np.size(U)\n",
    "    n=int(round(s*Missing_ratio))\n",
    "    print(n)\n",
    "    rows,cols = U.shape\n",
    "    \n",
    "    missing_index= np.zeros((rows,cols))\n",
    "    missing_rows = random.choices(list(range(rows)),k= n)\n",
    "    missing_cols = random.choices(list(range(cols)), k=n)\n",
    "    \n",
    "    index_list = []\n",
    "    \n",
    "    for i in range(n):\n",
    "        missing_index[missing_rows[i],missing_rows[i]] = True\n",
    "            \n",
    "    print(missing_index)\n",
    "   \n",
    "    \n",
    "    return  None #New_Missing_Data\n",
    "    "
   ]
  },
  {
   "cell_type": "code",
   "execution_count": 12,
   "id": "4dac1362-8d59-407e-94fc-b4cebeaac42b",
   "metadata": {},
   "outputs": [
    {
     "name": "stdout",
     "output_type": "stream",
     "text": [
      "35\n"
     ]
    },
    {
     "ename": "IndexError",
     "evalue": "index 14 is out of bounds for axis 1 with size 4",
     "output_type": "error",
     "traceback": [
      "\u001b[1;31m---------------------------------------------------------------------------\u001b[0m",
      "\u001b[1;31mIndexError\u001b[0m                                Traceback (most recent call last)",
      "\u001b[1;32m<ipython-input-12-19d43714bfca>\u001b[0m in \u001b[0;36m<module>\u001b[1;34m\u001b[0m\n\u001b[1;32m----> 1\u001b[1;33m \u001b[0mpick_random\u001b[0m\u001b[1;33m(\u001b[0m\u001b[0mC\u001b[0m\u001b[1;33m,\u001b[0m\u001b[1;36m0.3\u001b[0m\u001b[1;33m)\u001b[0m\u001b[1;33m\u001b[0m\u001b[1;33m\u001b[0m\u001b[0m\n\u001b[0m",
      "\u001b[1;32m<ipython-input-11-6316a2f941ff>\u001b[0m in \u001b[0;36mpick_random\u001b[1;34m(U, Missing_ratio)\u001b[0m\n\u001b[0;32m     14\u001b[0m \u001b[1;33m\u001b[0m\u001b[0m\n\u001b[0;32m     15\u001b[0m     \u001b[1;32mfor\u001b[0m \u001b[0mi\u001b[0m \u001b[1;32min\u001b[0m \u001b[0mrange\u001b[0m\u001b[1;33m(\u001b[0m\u001b[0mn\u001b[0m\u001b[1;33m)\u001b[0m\u001b[1;33m:\u001b[0m\u001b[1;33m\u001b[0m\u001b[1;33m\u001b[0m\u001b[0m\n\u001b[1;32m---> 16\u001b[1;33m         \u001b[0mmissing_index\u001b[0m\u001b[1;33m[\u001b[0m\u001b[0mmissing_rows\u001b[0m\u001b[1;33m[\u001b[0m\u001b[0mi\u001b[0m\u001b[1;33m]\u001b[0m\u001b[1;33m,\u001b[0m\u001b[0mmissing_rows\u001b[0m\u001b[1;33m[\u001b[0m\u001b[0mi\u001b[0m\u001b[1;33m]\u001b[0m\u001b[1;33m]\u001b[0m \u001b[1;33m=\u001b[0m \u001b[1;32mTrue\u001b[0m\u001b[1;33m\u001b[0m\u001b[1;33m\u001b[0m\u001b[0m\n\u001b[0m\u001b[0;32m     17\u001b[0m \u001b[1;33m\u001b[0m\u001b[0m\n\u001b[0;32m     18\u001b[0m     \u001b[0mprint\u001b[0m\u001b[1;33m(\u001b[0m\u001b[0mmissing_index\u001b[0m\u001b[1;33m)\u001b[0m\u001b[1;33m\u001b[0m\u001b[1;33m\u001b[0m\u001b[0m\n",
      "\u001b[1;31mIndexError\u001b[0m: index 14 is out of bounds for axis 1 with size 4"
     ]
    }
   ],
   "source": [
    "pick_random(C,0.3)"
   ]
  },
  {
   "cell_type": "code",
   "execution_count": 231,
   "id": "ef7ddbe3-e3da-4e51-9ab0-f7824a547caf",
   "metadata": {},
   "outputs": [
    {
     "data": {
      "text/plain": [
       "[1, 0, 0, 2, 2, 1, 1, 1, 0, 2]"
      ]
     },
     "execution_count": 231,
     "metadata": {},
     "output_type": "execute_result"
    }
   ],
   "source": [
    "n = 10\n",
    "rows = 3\n",
    "list_rows = list(range(rows))\n",
    "missing_rows = random.choices(list_rows,k=n)\n",
    "missing_rows "
   ]
  },
  {
   "cell_type": "code",
   "execution_count": 195,
   "id": "126fbdd1-251f-443e-8498-38de2490f8d7",
   "metadata": {},
   "outputs": [
    {
     "name": "stdout",
     "output_type": "stream",
     "text": [
      "[[5.3 6.8 4.8 1.7 9.6]\n",
      " [7.9 9.9 nan 6.7 7.2]\n",
      " [5.  2.2 5.3 8.4 5.8]\n",
      " [nan nan 8.9 3.4 6.6]\n",
      " [nan 8.1 8.8 3.1 nan]]\n"
     ]
    }
   ],
   "source": [
    "import numpy as np\n",
    "# number of nan we want to add It will insert 3 nan values to the data.....\n",
    "n_b = 5\n",
    " \n",
    "# creating dataset\n",
    "data_b = np.random.randint(10, 100, size=(5, 5))\n",
    " \n",
    "# converting the data to float as nan is also of type float\n",
    "data_b = data_b*0.1\n",
    " \n",
    "# choosing random indexes to put NaN\n",
    "index_b = np.random.choice(data_b.size, n_b, replace=False)\n",
    " \n",
    "# adding nan to the data.\n",
    "data_b.ravel()[index_b] = np.nan\n",
    "print(data_b)"
   ]
  },
  {
   "cell_type": "code",
   "execution_count": null,
   "id": "1f18eab5-9058-44fb-a6ae-f30f6d8a2cea",
   "metadata": {},
   "outputs": [],
   "source": []
  }
 ],
 "metadata": {
  "kernelspec": {
   "display_name": "Python 3",
   "language": "python",
   "name": "python3"
  },
  "language_info": {
   "codemirror_mode": {
    "name": "ipython",
    "version": 3
   },
   "file_extension": ".py",
   "mimetype": "text/x-python",
   "name": "python",
   "nbconvert_exporter": "python",
   "pygments_lexer": "ipython3",
   "version": "3.8.5"
  }
 },
 "nbformat": 4,
 "nbformat_minor": 5
}
